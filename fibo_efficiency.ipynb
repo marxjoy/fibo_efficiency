{
 "cells": [
  {
   "cell_type": "markdown",
   "metadata": {},
   "source": [
    "# Efficiency test of Fibonachi functions"
   ]
  },
  {
   "cell_type": "code",
   "execution_count": 1,
   "metadata": {},
   "outputs": [],
   "source": [
    "def test_fibo(func: callable) -> bool:\n",
    "    assert func(1) == 1\n",
    "    assert func(2) == 1\n",
    "    assert func(3) == 2\n",
    "    assert func(10) == 55\n",
    "    assert func(20) == 6765\n",
    "    return True"
   ]
  },
  {
   "cell_type": "markdown",
   "metadata": {},
   "source": [
    "## fib2 - recursion"
   ]
  },
  {
   "cell_type": "code",
   "execution_count": 2,
   "metadata": {},
   "outputs": [],
   "source": [
    "def fib2(n: int) -> int:\n",
    "    if n < 2:\n",
    "        return n\n",
    "    return fib2(n-2) + fib2(n-1)"
   ]
  },
  {
   "cell_type": "code",
   "execution_count": 3,
   "metadata": {},
   "outputs": [
    {
     "data": {
      "text/plain": [
       "True"
      ]
     },
     "execution_count": 3,
     "metadata": {},
     "output_type": "execute_result"
    }
   ],
   "source": [
    "test_fibo(fib2)"
   ]
  },
  {
   "cell_type": "markdown",
   "metadata": {},
   "source": [
    "## fib3 - recursion with memoization"
   ]
  },
  {
   "cell_type": "code",
   "execution_count": 4,
   "metadata": {},
   "outputs": [],
   "source": [
    "from functools import lru_cache\n",
    "\n",
    "@lru_cache(maxsize=None)\n",
    "def fib3(n: int) -> int:\n",
    "    if n < 2:\n",
    "        return n\n",
    "    return fib3(n-2) + fib3(n-1)"
   ]
  },
  {
   "cell_type": "code",
   "execution_count": 5,
   "metadata": {},
   "outputs": [
    {
     "data": {
      "text/plain": [
       "True"
      ]
     },
     "execution_count": 5,
     "metadata": {},
     "output_type": "execute_result"
    }
   ],
   "source": [
    "test_fibo(fib3)"
   ]
  },
  {
   "cell_type": "markdown",
   "metadata": {},
   "source": [
    "## fib4 - iteration"
   ]
  },
  {
   "cell_type": "code",
   "execution_count": 6,
   "metadata": {},
   "outputs": [],
   "source": [
    "def fib4(n: int) -> int:\n",
    "    if n == 0: return n\n",
    "    last: int = 0\n",
    "    next: int = 1\n",
    "    for _ in range(1, n):\n",
    "        last, next = next, last + next\n",
    "    return next"
   ]
  },
  {
   "cell_type": "code",
   "execution_count": 7,
   "metadata": {},
   "outputs": [
    {
     "data": {
      "text/plain": [
       "True"
      ]
     },
     "execution_count": 7,
     "metadata": {},
     "output_type": "execute_result"
    }
   ],
   "source": [
    "test_fibo(fib4)"
   ]
  },
  {
   "cell_type": "markdown",
   "metadata": {},
   "source": [
    "# Plots"
   ]
  },
  {
   "cell_type": "code",
   "execution_count": 8,
   "metadata": {},
   "outputs": [],
   "source": [
    "%matplotlib inline\n",
    "import matplotlib as mpl\n",
    "import matplotlib.pyplot as plt\n",
    "\n",
    "mpl.style.use('ggplot')"
   ]
  },
  {
   "cell_type": "code",
   "execution_count": 9,
   "metadata": {},
   "outputs": [],
   "source": [
    "from typing import List\n",
    "\n",
    "def test_efficiency(func: callable, cases: List[int]) -> dict:   \n",
    "    print(f\"testing function: {func.__name__}\")\n",
    "    res = dict()\n",
    "    for c in cases:\n",
    "        t = %timeit -o func(c)\n",
    "        res[c] = t\n",
    "    return res"
   ]
  },
  {
   "cell_type": "code",
   "execution_count": 10,
   "metadata": {},
   "outputs": [],
   "source": [
    "from typing import Tuple\n",
    "\n",
    "def get_efficiency_data(functions: Tuple[callable], limit: int) -> dict:\n",
    "    cases = list(range(1, limit))\n",
    "    res = dict()\n",
    "    for f in functions:\n",
    "        e = test_efficiency(f, cases)\n",
    "        res[f.__name__] = e\n",
    "    return res  "
   ]
  },
  {
   "cell_type": "code",
   "execution_count": 11,
   "metadata": {},
   "outputs": [],
   "source": [
    "functions = (fib2, fib3, fib4)"
   ]
  },
  {
   "cell_type": "code",
   "execution_count": 12,
   "metadata": {},
   "outputs": [
    {
     "name": "stdout",
     "output_type": "stream",
     "text": [
      "testing function: fib2\n",
      "122 ns ± 0.489 ns per loop (mean ± std. dev. of 7 runs, 10000000 loops each)\n",
      "389 ns ± 1.64 ns per loop (mean ± std. dev. of 7 runs, 1000000 loops each)\n",
      "643 ns ± 2.73 ns per loop (mean ± std. dev. of 7 runs, 1000000 loops each)\n",
      "1.2 µs ± 9.32 ns per loop (mean ± std. dev. of 7 runs, 1000000 loops each)\n",
      "1.97 µs ± 17.6 ns per loop (mean ± std. dev. of 7 runs, 1000000 loops each)\n",
      "3.25 µs ± 17.5 ns per loop (mean ± std. dev. of 7 runs, 100000 loops each)\n",
      "5.39 µs ± 25 ns per loop (mean ± std. dev. of 7 runs, 100000 loops each)\n",
      "9.45 µs ± 289 ns per loop (mean ± std. dev. of 7 runs, 100000 loops each)\n",
      "14.8 µs ± 651 ns per loop (mean ± std. dev. of 7 runs, 100000 loops each)\n",
      "testing function: fib3\n",
      "104 ns ± 4.14 ns per loop (mean ± std. dev. of 7 runs, 10000000 loops each)\n",
      "104 ns ± 0.669 ns per loop (mean ± std. dev. of 7 runs, 10000000 loops each)\n",
      "105 ns ± 0.0123 ns per loop (mean ± std. dev. of 7 runs, 10000000 loops each)\n",
      "107 ns ± 0.207 ns per loop (mean ± std. dev. of 7 runs, 10000000 loops each)\n",
      "103 ns ± 0.00795 ns per loop (mean ± std. dev. of 7 runs, 10000000 loops each)\n",
      "105 ns ± 0.0133 ns per loop (mean ± std. dev. of 7 runs, 10000000 loops each)\n",
      "107 ns ± 0.0178 ns per loop (mean ± std. dev. of 7 runs, 10000000 loops each)\n",
      "103 ns ± 0.58 ns per loop (mean ± std. dev. of 7 runs, 10000000 loops each)\n",
      "103 ns ± 0.0565 ns per loop (mean ± std. dev. of 7 runs, 10000000 loops each)\n",
      "testing function: fib4\n",
      "319 ns ± 2.65 ns per loop (mean ± std. dev. of 7 runs, 1000000 loops each)\n",
      "413 ns ± 0.244 ns per loop (mean ± std. dev. of 7 runs, 1000000 loops each)\n",
      "463 ns ± 2.4 ns per loop (mean ± std. dev. of 7 runs, 1000000 loops each)\n",
      "508 ns ± 0.987 ns per loop (mean ± std. dev. of 7 runs, 1000000 loops each)\n",
      "553 ns ± 0.0408 ns per loop (mean ± std. dev. of 7 runs, 1000000 loops each)\n",
      "604 ns ± 3.43 ns per loop (mean ± std. dev. of 7 runs, 1000000 loops each)\n",
      "652 ns ± 0.025 ns per loop (mean ± std. dev. of 7 runs, 1000000 loops each)\n",
      "703 ns ± 0.0454 ns per loop (mean ± std. dev. of 7 runs, 1000000 loops each)\n",
      "756 ns ± 0.116 ns per loop (mean ± std. dev. of 7 runs, 1000000 loops each)\n"
     ]
    }
   ],
   "source": [
    "data = get_efficiency_data(functions, limit=10)"
   ]
  },
  {
   "cell_type": "code",
   "execution_count": 13,
   "metadata": {},
   "outputs": [],
   "source": [
    "def plot_efficiency(data: dict, flag: str ='best') -> None:\n",
    "    for function in data:\n",
    "        xa = data[function].keys()\n",
    "        ya = [getattr(v, flag) for v in data[function].values()]\n",
    "        plt.plot(xa, ya)\n",
    "    plt.xticks(list(xa))\n",
    "    plt.legend(labels=[f for f in data])\n",
    "    plt.show()"
   ]
  },
  {
   "cell_type": "markdown",
   "metadata": {},
   "source": [
    "## best execusion time"
   ]
  },
  {
   "cell_type": "code",
   "execution_count": 14,
   "metadata": {},
   "outputs": [
    {
     "data": {
      "image/png": "[encoded data removed]",
      "text/plain": [
       "<Figure size 432x288 with 1 Axes>"
      ]
     },
     "metadata": {
      "needs_background": "light"
     },
     "output_type": "display_data"
    }
   ],
   "source": [
    "plot_efficiency(data, flag='best')"
   ]
  },
  {
   "cell_type": "code",
   "execution_count": 15,
   "metadata": {},
   "outputs": [
    {
     "data": {
      "image/png": "[encoded data removed]",
      "text/plain": [
       "<Figure size 432x288 with 1 Axes>"
      ]
     },
     "metadata": {
      "needs_background": "light"
     },
     "output_type": "display_data"
    }
   ],
   "source": [
    "plot_efficiency(data, flag='loops')"
   ]
  },
  {
   "cell_type": "markdown",
   "metadata": {},
   "source": [
    "#### excluding fib2"
   ]
  },
  {
   "cell_type": "code",
   "execution_count": 16,
   "metadata": {},
   "outputs": [
    {
     "name": "stdout",
     "output_type": "stream",
     "text": [
      "testing function: fib3\n",
      "107 ns ± 0.0835 ns per loop (mean ± std. dev. of 7 runs, 10000000 loops each)\n",
      "106 ns ± 0.308 ns per loop (mean ± std. dev. of 7 runs, 10000000 loops each)\n",
      "105 ns ± 0.013 ns per loop (mean ± std. dev. of 7 runs, 10000000 loops each)\n",
      "106 ns ± 0.0103 ns per loop (mean ± std. dev. of 7 runs, 10000000 loops each)\n",
      "105 ns ± 0.017 ns per loop (mean ± std. dev. of 7 runs, 10000000 loops each)\n",
      "105 ns ± 0.474 ns per loop (mean ± std. dev. of 7 runs, 10000000 loops each)\n",
      "105 ns ± 0.00581 ns per loop (mean ± std. dev. of 7 runs, 10000000 loops each)\n",
      "105 ns ± 0.00996 ns per loop (mean ± std. dev. of 7 runs, 10000000 loops each)\n",
      "107 ns ± 0.00584 ns per loop (mean ± std. dev. of 7 runs, 10000000 loops each)\n",
      "105 ns ± 0.284 ns per loop (mean ± std. dev. of 7 runs, 10000000 loops each)\n",
      "105 ns ± 0.00928 ns per loop (mean ± std. dev. of 7 runs, 10000000 loops each)\n",
      "105 ns ± 0.0184 ns per loop (mean ± std. dev. of 7 runs, 10000000 loops each)\n",
      "105 ns ± 0.00516 ns per loop (mean ± std. dev. of 7 runs, 10000000 loops each)\n",
      "105 ns ± 0.00503 ns per loop (mean ± std. dev. of 7 runs, 10000000 loops each)\n",
      "107 ns ± 0.00989 ns per loop (mean ± std. dev. of 7 runs, 10000000 loops each)\n",
      "107 ns ± 0.00923 ns per loop (mean ± std. dev. of 7 runs, 10000000 loops each)\n",
      "112 ns ± 0.467 ns per loop (mean ± std. dev. of 7 runs, 10000000 loops each)\n",
      "107 ns ± 0.247 ns per loop (mean ± std. dev. of 7 runs, 10000000 loops each)\n",
      "105 ns ± 0.0124 ns per loop (mean ± std. dev. of 7 runs, 10000000 loops each)\n",
      "105 ns ± 0.00508 ns per loop (mean ± std. dev. of 7 runs, 10000000 loops each)\n",
      "105 ns ± 0.00418 ns per loop (mean ± std. dev. of 7 runs, 10000000 loops each)\n",
      "105 ns ± 0.0125 ns per loop (mean ± std. dev. of 7 runs, 10000000 loops each)\n",
      "105 ns ± 0.00532 ns per loop (mean ± std. dev. of 7 runs, 10000000 loops each)\n",
      "106 ns ± 0.0139 ns per loop (mean ± std. dev. of 7 runs, 10000000 loops each)\n",
      "testing function: fib4\n",
      "320 ns ± 0.0394 ns per loop (mean ± std. dev. of 7 runs, 1000000 loops each)\n",
      "414 ns ± 0.154 ns per loop (mean ± std. dev. of 7 runs, 1000000 loops each)\n",
      "460 ns ± 1.02 ns per loop (mean ± std. dev. of 7 runs, 1000000 loops each)\n",
      "505 ns ± 0.0496 ns per loop (mean ± std. dev. of 7 runs, 1000000 loops each)\n",
      "555 ns ± 3.69 ns per loop (mean ± std. dev. of 7 runs, 1000000 loops each)\n",
      "610 ns ± 4.4 ns per loop (mean ± std. dev. of 7 runs, 1000000 loops each)\n",
      "649 ns ± 3.89 ns per loop (mean ± std. dev. of 7 runs, 1000000 loops each)\n",
      "704 ns ± 2.28 ns per loop (mean ± std. dev. of 7 runs, 1000000 loops each)\n",
      "756 ns ± 4.06 ns per loop (mean ± std. dev. of 7 runs, 1000000 loops each)\n",
      "804 ns ± 5.71 ns per loop (mean ± std. dev. of 7 runs, 1000000 loops each)\n",
      "854 ns ± 3.4 ns per loop (mean ± std. dev. of 7 runs, 1000000 loops each)\n",
      "904 ns ± 7.52 ns per loop (mean ± std. dev. of 7 runs, 1000000 loops each)\n",
      "947 ns ± 3.88 ns per loop (mean ± std. dev. of 7 runs, 1000000 loops each)\n",
      "1.02 µs ± 3.9 ns per loop (mean ± std. dev. of 7 runs, 1000000 loops each)\n",
      "1.06 µs ± 0.238 ns per loop (mean ± std. dev. of 7 runs, 1000000 loops each)\n",
      "1.14 µs ± 5.25 ns per loop (mean ± std. dev. of 7 runs, 1000000 loops each)\n",
      "1.18 µs ± 5.83 ns per loop (mean ± std. dev. of 7 runs, 1000000 loops each)\n",
      "1.23 µs ± 5.73 ns per loop (mean ± std. dev. of 7 runs, 1000000 loops each)\n",
      "1.28 µs ± 4.36 ns per loop (mean ± std. dev. of 7 runs, 1000000 loops each)\n",
      "1.35 µs ± 4.14 ns per loop (mean ± std. dev. of 7 runs, 1000000 loops each)\n",
      "1.41 µs ± 7.3 ns per loop (mean ± std. dev. of 7 runs, 1000000 loops each)\n",
      "1.46 µs ± 4.22 ns per loop (mean ± std. dev. of 7 runs, 1000000 loops each)\n",
      "1.52 µs ± 7.72 ns per loop (mean ± std. dev. of 7 runs, 1000000 loops each)\n",
      "1.57 µs ± 0.622 ns per loop (mean ± std. dev. of 7 runs, 1000000 loops each)\n"
     ]
    },
    {
     "data": {
      "image/png": "[encoded data removed]",
      "text/plain": [
       "<Figure size 432x288 with 1 Axes>"
      ]
     },
     "metadata": {
      "needs_background": "light"
     },
     "output_type": "display_data"
    }
   ],
   "source": [
    "data = get_efficiency_data((fib3, fib4), limit=25)\n",
    "plot_efficiency(data, flag='best')"
   ]
  },
  {
   "cell_type": "code",
   "execution_count": 17,
   "metadata": {},
   "outputs": [
    {
     "data": {
      "image/png": "[encoded data removed]",
      "text/plain": [
       "<Figure size 432x288 with 1 Axes>"
      ]
     },
     "metadata": {
      "needs_background": "light"
     },
     "output_type": "display_data"
    }
   ],
   "source": [
    "plot_efficiency(data, flag='loops')"
   ]
  },
  {
   "cell_type": "markdown",
   "metadata": {},
   "source": [
    "# function 'fib3' is the most efficiency"
   ]
  },
  {
   "cell_type": "code",
   "execution_count": null,
   "metadata": {},
   "outputs": [],
   "source": []
  }
 ],
 "metadata": {
  "kernelspec": {
   "display_name": "Python 3",
   "language": "python",
   "name": "python3"
  },
  "language_info": {
   "codemirror_mode": {
    "name": "ipython",
    "version": 3
   },
   "file_extension": ".py",
   "mimetype": "text/x-python",
   "name": "python",
   "nbconvert_exporter": "python",
   "pygments_lexer": "ipython3",
   "version": "3.7.3"
  }
 },
 "nbformat": 4,
 "nbformat_minor": 2
}
